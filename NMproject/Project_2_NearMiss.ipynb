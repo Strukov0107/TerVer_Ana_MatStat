{
  "nbformat": 4,
  "nbformat_minor": 0,
  "metadata": {
    "colab": {
      "name": "Project_1_SEvsSIE.ipynb",
      "provenance": [],
      "collapsed_sections": []
    },
    "kernelspec": {
      "name": "python3",
      "display_name": "Python 3"
    },
    "language_info": {
      "name": "python"
    }
  },
  "cells": [
    {
      "cell_type": "markdown",
      "source": [
        "PROJECT_NEAR MISS\n",
        "\n",
        "Проанализировать повторяемость.\n",
        "Общий анализ всех данных.\n",
        "Поиск топов и скрытых зависимостей."
      ],
      "metadata": {
        "id": "BM05wT4Cbepv"
      }
    },
    {
      "cell_type": "code",
      "source": [
        "import numpy as np\n",
        "import pandas as pd\n",
        "from matplotlib import pyplot as plt\n",
        "\n",
        "# Import Data\n",
        "df = pd.read_csv(\"https://raw.githubusercontent.com/Strukov0107/TerVer_Ana_MatStat/master/NMproject/Data9_Windows_kirillica.csv\")\n",
        "df.head(5)\n",
        "\n",
        "# Prepare Data\n",
        "\n",
        "\n",
        "# Draw Plot \n"
      ],
      "metadata": {
        "id": "f32TcIarb2rY"
      },
      "execution_count": null,
      "outputs": []
    }
  ]
}