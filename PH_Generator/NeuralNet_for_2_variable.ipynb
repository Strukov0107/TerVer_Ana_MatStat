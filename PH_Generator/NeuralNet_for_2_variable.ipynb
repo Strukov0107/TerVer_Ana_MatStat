{
  "nbformat": 4,
  "nbformat_minor": 0,
  "metadata": {
    "colab": {
      "provenance": []
    },
    "kernelspec": {
      "name": "python3",
      "display_name": "Python 3"
    },
    "language_info": {
      "name": "python"
    }
  },
  "cells": [
    {
      "cell_type": "code",
      "source": [
        "import numpy as np\n",
        "#from tensorflow.python.keras.preprocessing.image import ImageDataGenerator\n",
        "from keras.preprocessing.image import ImageDataGenerator\n",
        "from tensorflow.python.keras.models import Sequential\n",
        "from tensorflow.python.keras.layers import Conv2D, MaxPooling2D\n",
        "from tensorflow.python.keras.layers import Activation, Dropout, Flatten, Dense\n",
        "\n",
        "#connect drive\n",
        "from google.colab import drive\n",
        "drive.mount('/content/drive')"
      ],
      "metadata": {
        "id": "eJATvsVP7Bv4"
      },
      "execution_count": null,
      "outputs": []
    },
    {
      "cell_type": "code",
      "source": [
        "!git clone https://github.com/Strukov0107/TerVer_Ana_MatStat.git"
      ],
      "metadata": {
        "id": "WlZmd-7N7sxx"
      },
      "execution_count": null,
      "outputs": []
    },
    {
      "cell_type": "code",
      "source": [
        "# Каталог с данными для обучения\n",
        "train_dir = '/content/TerVer_Ana_MatStat/PH_Generator/Dataset'\n",
        "#/content/TerVer_Ana_MatStat/PH_Generator/Dataset\n",
        "# Каталог с данными для проверки\n",
        "val_dir = '/content/TerVer_Ana_MatStat/PH_Generator/Dataset'\n",
        "# Каталог с данными для тестирования\n",
        "test_dir = '/content/TerVer_Ana_MatStat/PH_Generator/Dataset'\n",
        "#\n",
        "exc_path = '/content/TerVer_Ana_MatStat/PH_Generator/What_Is'\n",
        "\n",
        "# Размеры изображения\n",
        "#img_width, img_height = 1191, 1684\n",
        "img_width, img_height = 119, 168\n",
        "# Размерность тензора на основе изображения для входных данных в нейронную сеть\n",
        "# backend Tensorflow, channels_last\n",
        "input_shape = (img_width, img_height, 3)\n",
        "# Количество эпох\n",
        "epochs = 20\n",
        "# Размер мини-выборки\n",
        "batch_size = 25\n",
        "# Количество изображений для обучения\n",
        "nb_train_samples = 500\n",
        "# Количество изображений для проверки\n",
        "nb_validation_samples = 50\n",
        "# Количество изображений для тестирования\n",
        "nb_test_samples = 50\n",
        "\n",
        "\n",
        "\n",
        "\n",
        "datagen = ImageDataGenerator(rescale=1. /255)\n",
        "#генератор данных для тестирования на основе изображений из каталога\n",
        "train_generator = datagen.flow_from_directory(\n",
        "    train_dir,\n",
        "    target_size=(img_width, img_height),\n",
        "    batch_size = batch_size,\n",
        "    class_mode = 'binary'\n",
        ")\n",
        "\n",
        "#генератор данных для тестирования на основе изображений из каталога\n",
        "#datagen = ImageDataGenerator(rescale=1. /255)\n",
        "\n",
        "test_generator = datagen.flow_from_directory(\n",
        "    test_dir,\n",
        "    target_size=(img_width, img_height),\n",
        "    batch_size = batch_size,\n",
        "    class_mode = 'binary'\n",
        ")\n",
        "\n",
        "#генератор для проверки на основе изображений из каталога\n",
        "#datagen = ImageDataGenerator(rescale=1. /255)\n",
        "\n",
        "val_generator = datagen.flow_from_directory(\n",
        "    val_dir,\n",
        "    target_size=(img_width, img_height),\n",
        "    batch_size = batch_size,\n",
        "    class_mode = 'binary'\n",
        ")\n",
        "\n"
      ],
      "metadata": {
        "id": "-ulV_Dw27veO"
      },
      "execution_count": null,
      "outputs": []
    },
    {
      "cell_type": "code",
      "source": [
        "#создаём нейронку\n",
        "model = Sequential()\n",
        "model.add(Conv2D(32, (3, 3), input_shape=input_shape))\n",
        "model.add(Activation('relu'))\n",
        "model.add(MaxPooling2D(pool_size=(2, 2)))\n",
        "\n",
        "model.add(Conv2D(32, (3, 3)))\n",
        "model.add(Activation('relu'))\n",
        "model.add(MaxPooling2D(pool_size=(2, 2)))\n",
        "\n",
        "model.add(Conv2D(64, (3, 3)))\n",
        "model.add(Activation('relu'))\n",
        "model.add(MaxPooling2D(pool_size=(2, 2)))\n",
        "\n",
        "model.add(Flatten())\n",
        "model.add(Dense(64))\n",
        "model.add(Activation('relu'))\n",
        "#model.add(Dropout(0.5))\n",
        "#model.add(Dropout(0.05))\n",
        "model.add(Dense(1))\n",
        "model.add(Activation('sigmoid'))\n",
        "\n",
        "#компилируем нейронную сеть\n",
        "model.compile(loss='binary_crossentropy',\n",
        "              optimizer='adam',\n",
        "              metrics=['accuracy'])\n",
        "\n",
        "#\n",
        "model.fit_generator(\n",
        "    train_generator,\n",
        "    steps_per_epoch=nb_train_samples // batch_size,\n",
        "    epochs=epochs,\n",
        "    validation_data=val_generator,\n",
        "    validation_steps=nb_validation_samples // batch_size\n",
        ")\n",
        "\n",
        "# оцениваем качество работы сети с помощью генератора\n",
        "scores = model.evaluate_generator(test_generator, nb_test_samples // batch_size)\n",
        "\n",
        "print (\"Accurancy by test data : %.2f%%\" % (scores[1]*100))"
      ],
      "metadata": {
        "id": "c1WlUpYK7z-f"
      },
      "execution_count": null,
      "outputs": []
    },
    {
      "cell_type": "code",
      "source": [
        "#генератор данных для исследования нового неизвестного образца\n",
        "datagen = ImageDataGenerator(rescale=1. /255)\n",
        "\n",
        "exc_generator = datagen.flow_from_directory(\n",
        "    exc_path,\n",
        "    target_size=(img_width, img_height),\n",
        "    batch_size = 1,\n",
        "    class_mode = 'binary'\n",
        ")\n",
        "\n",
        "for datase_pic, dataset_indx in exc_generator:\n",
        "  x = datase_pic\n",
        "  y = dataset_indx\n",
        "#  print (datase_pic)\n",
        "  print (dataset_indx)\n",
        "  break\n",
        "\n",
        "predictions_single = model.predict(x)\n",
        "predictions_single"
      ],
      "metadata": {
        "id": "pd4khztV74a3"
      },
      "execution_count": null,
      "outputs": []
    },
    {
      "cell_type": "code",
      "source": [
        "print(np.argmax(predictions_single))"
      ],
      "metadata": {
        "id": "XxbiC52M786n"
      },
      "execution_count": null,
      "outputs": []
    }
  ]
}