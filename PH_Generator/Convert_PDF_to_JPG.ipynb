{
  "nbformat": 4,
  "nbformat_minor": 0,
  "metadata": {
    "colab": {
      "provenance": []
    },
    "kernelspec": {
      "name": "python3",
      "display_name": "Python 3"
    },
    "language_info": {
      "name": "python"
    }
  },
  "cells": [
    {
      "cell_type": "code",
      "execution_count": null,
      "metadata": {
        "id": "Sr7Yp2fd5chN"
      },
      "outputs": [],
      "source": [
        "##  convert PDF to JPEG\n",
        "##\n",
        "!pip install PyMuPDF==1.18.9"
      ]
    },
    {
      "cell_type": "code",
      "source": [
        "import fitz\n",
        "from typing import Tuple\n",
        "import os\n",
        "import sys\n",
        "\n",
        "def convert_pdf2img(input_file: str, pages: Tuple = None):\n",
        "    \"\"\"Преобразует PDF в изображение и создает файл за страницей\"\"\"\n",
        "    # Open the document\n",
        "    pdfIn = fitz.open(input_file)\n",
        "    output_files = []\n",
        "    # Полистаем страницы\n",
        "    for pg in range(pdfIn.pageCount):\n",
        "        if str(pages) != str(None):\n",
        "            if str(pg) not in str(pages):\n",
        "                continue\n",
        "        # Выберем страницу\n",
        "        page = pdfIn[pg]\n",
        "        rotate = int(0)\n",
        "        # PDF Страница конвертируется в целое изображение 1056 * 816, а затем для каждого изображения делается снимок экрана.\n",
        "        # zoom = 1.33333333 -----> Размер изображения = 1056 * 816\n",
        "        # zoom = 2 ---> 2 * Разрешение по умолчанию (текст четкий, текст изображения плохо читается) = маленький размер файла/размер изображения = 1584 * 1224\n",
        "        # zoom = 4 ---> 4 * Разрешение по умолчанию (текст четкий, текст изображения плохо читается) = большой размер файла\n",
        "        # zoom = 8 ---> 8 * Разрешение по умолчанию (текст четкий, текст изображения читается) = большой размер файла\n",
        "        zoom_x = 2\n",
        "        zoom_y = 2\n",
        "        # Коэффициент масштабирования равен 2, чтобы текст был четким\n",
        "        # Pre-rotate - это вращение при необходимости.\n",
        "        mat = fitz.Matrix(zoom_x, zoom_y).preRotate(rotate)\n",
        "        pix = page.getPixmap(matrix=mat, alpha=False)\n",
        "        output_file = f\"{os.path.splitext(os.path.basename(input_file))[0]}_page{pg+1}.png\"\n",
        "        pix.writePNG(output_file)\n",
        "        output_files.append(output_file)\n",
        "    pdfIn.close()\n",
        "    summary = {\n",
        "        \"Исходный файл\": input_file, \"Страниц\": str(pages), \"Выходной файл(ы)\": str(output_files)\n",
        "    }\n",
        "    # Printing Summary\n",
        "    print(\"#### Отчет ########################################################\")\n",
        "    print(\"\\n\".join(\"{}:{}\".format(i, j) for i, j in summary.items()))\n",
        "    print(\"###################################################################\")\n",
        "    return output_files"
      ],
      "metadata": {
        "id": "X0gq8BOI5i_V"
      },
      "execution_count": null,
      "outputs": []
    },
    {
      "cell_type": "code",
      "source": [
        "from google.colab import files\n",
        "files.upload()"
      ],
      "metadata": {
        "id": "znFvIua75p4G"
      },
      "execution_count": null,
      "outputs": []
    },
    {
      "cell_type": "code",
      "source": [
        "# address of the file \n",
        "myfile_1 = 'Var1.pdf' \n",
        "#myfile_2 = 'Var2.pdf' \n",
        "#myfile_3 = 'Var3.pdf' \n",
        "#myfile_4 = 'Var4.pdf'\n",
        "#myfile_5 = 'Var5.pdf' \n",
        "#myfile_6 = 'Var6.pdf'\n",
        "#myfile_7 = 'Var7.pdf' \n",
        "#myfile_8 = 'Var8.pdf'\n",
        "#myfile_9 = 'Var9.pdf' \n",
        "#myfile_10 = 'Var10.pdf'\n",
        "#myfile_11 = 'Var11.pdf' \n",
        "#myfile_13 = 'Var13.pdf' \n",
        "#myfile_14 = 'Var14.pdf'\n",
        "#myfile_15 = 'Var15.pdf' \n",
        "#myfile_16 = 'Var16.pdf'\n",
        "\n",
        "\n",
        "\n",
        "# using the read_pdf() function\n",
        "\n",
        "\n",
        "if __name__ == \"__main__\":\n",
        "    import sys\n",
        "    input_file = sys.argv[1]\n",
        "    convert_pdf2img(myfile_1)\n",
        "\n",
        "#if __name__ == \"__main__\":\n",
        " #   import sys\n",
        "#    input_file = sys.argv[1]\n",
        "#    convert_pdf2img(myfile_2) \n",
        " #   convert_pdf2img(myfile_3)\n",
        "  #  convert_pdf2img(myfile_4)\n",
        "   # convert_pdf2img(myfile_5)\n",
        "    #convert_pdf2img(myfile_6)\n",
        "#    convert_pdf2img(myfile_7)\n",
        " #   convert_pdf2img(myfile_8)\n",
        "  #  convert_pdf2img(myfile_9)\n",
        "   # convert_pdf2img(myfile_10)\n",
        "    #convert_pdf2img(myfile_11)\n",
        "#    convert_pdf2img(myfile_12)\n",
        " #   convert_pdf2img(myfile_13)\n",
        "  #  convert_pdf2img(myfile_14)\n",
        "   # convert_pdf2img(myfile_15)\n",
        "    #convert_pdf2img(myfile_16)\n",
        "\n",
        "# конвертировать нужно в jpg\n",
        "# вторые страницы нужно сохранять в папку\n",
        "\n",
        "#res1 = 'Var1_page2.png'\n",
        "#res2 = 'Var2_page2.png'\n",
        "#res3 = 'Var3_page2.png'\n",
        "#res4 = 'Var4_page2.png'\n",
        "#res5 = 'Var5_page2.png'\n",
        "#res6 = 'Var6_page2.png'\n",
        "#res7 = 'Var7_page2.png'\n",
        "#res8 = 'Var8_page2.png'\n",
        "#res9 = 'Var9_page2.png'\n",
        "#res10 = 'Var10_page2.png'\n",
        "#res11 = 'Var11_page2.png'\n",
        "#res12 = 'Var12_page2.png'\n",
        "#res13 = 'Var13_page2.png'\n",
        "#res14 = 'Var14_page2.png'\n",
        "#res15 = 'Var15_page2.png'\n",
        "#res16 = 'Var16_page2.png'\n",
        "\n",
        "\n",
        "\n",
        "\n",
        "\n",
        "\n",
        "\n",
        "\n"
      ],
      "metadata": {
        "id": "y_YQtJsn5suY"
      },
      "execution_count": null,
      "outputs": []
    }
  ]
}