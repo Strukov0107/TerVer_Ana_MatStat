{
  "nbformat": 4,
  "nbformat_minor": 0,
  "metadata": {
    "colab": {
      "name": "Lesson4.ipynb",
      "provenance": [],
      "collapsed_sections": []
    },
    "kernelspec": {
      "name": "python3",
      "display_name": "Python 3"
    },
    "language_info": {
      "name": "python"
    }
  },
  "cells": [
    {
      "cell_type": "markdown",
      "metadata": {
        "id": "15VK2P0hSI-0"
      },
      "source": [
        "##   Практическое задание №1 для 4 урока\n",
        "\n",
        "О непрерывной равномерно распределенной случайной величине B известно,\n",
        "что ее дисперсия равна 0.2.\n",
        "Можно ли найти правую границу величины B и ее среднее значение зная,\n",
        "что левая граница равна 0.5? \n",
        "\n",
        "Если да, найдите ее.\n",
        "\n",
        "\n",
        "\n"
      ]
    },
    {
      "cell_type": "code",
      "metadata": {
        "colab": {
          "base_uri": "https://localhost:8080/"
        },
        "id": "GCqS1mOwLPuE",
        "outputId": "0bff5cbf-75c7-445a-835c-7ad498708e52"
      },
      "source": [
        "# дано: D=0.2, a=0.5\n",
        "# Найти b, M(x)\n",
        "\n",
        "D = 0.2\n",
        "a = 0.5\n",
        "\n",
        "# D=(b-a)^2/12\n",
        "# b=sqrt(12*d)+a\n",
        "\n",
        "b = (12*D)**0.5 + a\n",
        "print ('b =', b)\n",
        "\n",
        "# M(x)=(a+b)/2\n",
        "M = (a + b) / 2\n",
        "print ('М(х) =', M)"
      ],
      "execution_count": 4,
      "outputs": [
        {
          "output_type": "stream",
          "name": "stdout",
          "text": [
            "b = 2.049193338482967\n",
            "М(х) = 1.2745966692414834\n"
          ]
        }
      ]
    },
    {
      "cell_type": "markdown",
      "metadata": {
        "id": "Xd2iyYZusiBU"
      },
      "source": [
        "##   Практическое задание №2 для 4 урока\n",
        "На сĸольĸо сигм (средних ĸвадратичесĸих отĸлонений) \n",
        "отĸлоняется рост человеĸа,\n",
        "равный 190 см, от математичесĸого ожидания роста в популяции,\n",
        "в ĸоторой M(X) =178 и D(X) = 25 ?\n",
        "\n"
      ]
    },
    {
      "cell_type": "code",
      "metadata": {
        "id": "UqcE2WGYsa0k",
        "colab": {
          "base_uri": "https://localhost:8080/",
          "height": 404
        },
        "outputId": "681f044e-3558-4094-ce4b-a6782faf0063"
      },
      "source": [
        "from matplotlib import pyplot as plt\n",
        "import numpy as np\n",
        "import math\n",
        "\n",
        "\n",
        "def gaussian(x, alpha, r):\n",
        "      return (1/(alpha*math.sqrt(2*math.pi))*(np.exp((-1)*((x - r)**2)/(2*alpha)**2)))\n",
        "\n",
        "\n",
        "alfa = 5\n",
        "r = 178\n",
        "\n",
        "x = np.linspace(153, 203, 100)\n",
        "plt.plot(x, gaussian(x, alfa, r))\n",
        "\n",
        "plt.show()\n",
        "\n",
        "print('x=163     f(x)=',gaussian(163, alfa, r))\n",
        "print('x=168     f(x)=',gaussian(168, alfa, r))\n",
        "print('x=173     f(x)=',gaussian(173, alfa, r))\n",
        "print('x=178     f(x)=',gaussian(178, alfa, r))\n",
        "print('x=183     f(x)=',gaussian(183, alfa, r))\n",
        "print('x=188     f(x)=',gaussian(188, alfa, r))\n",
        "print('x=193     f(x)=',gaussian(193, alfa, r))\n",
        "\n",
        "print('190 отклоняется от математического ожидания на 2 сигмы')\n"
      ],
      "execution_count": 5,
      "outputs": [
        {
          "output_type": "display_data",
          "data": {
            "image/png": "[encoded data removed]",
            "text/plain": [
              "<Figure size 432x288 with 1 Axes>"
            ]
          },
          "metadata": {
            "needs_background": "light"
          }
        },
        {
          "output_type": "stream",
          "name": "stdout",
          "text": [
            "x=163     f(x)= 0.008409641399850572\n",
            "x=168     f(x)= 0.029352532634747987\n",
            "x=173     f(x)= 0.06213931207538556\n",
            "x=178     f(x)= 0.07978845608028655\n",
            "x=183     f(x)= 0.06213931207538556\n",
            "x=188     f(x)= 0.029352532634747987\n",
            "x=193     f(x)= 0.008409641399850572\n",
            "190 отклоняется от математического ожидания на 2 сигмы\n"
          ]
        }
      ]
    },
    {
      "cell_type": "markdown",
      "metadata": {
        "id": "dyN1upsxBrMU"
      },
      "source": [
        "##   Практическое задание №3 для 4 урока\n",
        "\n",
        "Рост взрослого населения города X имеет нормальное распределение,\n",
        "причем, средний рост равен 174 см, \n",
        "а среднее ĸвадратичесĸое отĸлонение равно 8 см. \n",
        "\n",
        "Без использования сторонних библиотеĸ ( numpy , scipy , pandas и пр.) посчитайте, ĸаĸова вероятность того, \n",
        "что случайным образом выбранный взрослый человеĸ имеет рост:\n",
        "1. больше 182 см?\n",
        "2. больше 190 см?\n",
        "3. от 166 см до 190 см?\n",
        "4. от 166 см до 182 см?\n",
        "5. от 158 см до 190 см?\n",
        "6. не выше 150 см или не ниже 190 см?\n",
        "7. не выше 150 см или не ниже 198 см?\n",
        "8. ниже 166 см\n"
      ]
    },
    {
      "cell_type": "markdown",
      "metadata": {
        "id": "rdc_JVfPC-os"
      },
      "source": [
        "М(х)=а=174\n",
        "\n",
        "alpha=8\n",
        "\n"
      ]
    },
    {
      "cell_type": "code",
      "metadata": {
        "id": "6b0ub462FAyA",
        "colab": {
          "base_uri": "https://localhost:8080/",
          "height": 265
        },
        "outputId": "218bc54b-78a6-48cc-c928-f9d25cc9503f"
      },
      "source": [
        "from matplotlib import pyplot as plt\n",
        "import numpy as np\n",
        "import math\n",
        "\n",
        "\n",
        "def gaussian(x, alpha, r):\n",
        "      return (1/(alpha*math.sqrt(2*math.pi))*(np.exp((-1)*((x - r)**2)/(2*alpha)**2)))\n",
        "\n",
        "\n",
        "alfa = 8\n",
        "r = 174\n",
        "\n",
        "x = np.linspace(134, 214, 100)\n",
        "plt.plot(x, gaussian(x, alfa, r))\n",
        "\n",
        "plt.show()"
      ],
      "execution_count": 6,
      "outputs": [
        {
          "output_type": "display_data",
          "data": {
            "image/png": "[encoded data removed]",
            "text/plain": [
              "<Figure size 432x288 with 1 Axes>"
            ]
          },
          "metadata": {
            "needs_background": "light"
          }
        }
      ]
    },
    {
      "cell_type": "markdown",
      "metadata": {
        "id": "UMDAzoZaS66t"
      },
      "source": [
        "Применим формулу Р(альфа<x<бэтта)=Ф((бэтта-а)/сигма)-Ф((альфа-а)/сигма)\n",
        "\n",
        "1. Х>182\n",
        "\n",
        "P(182<x<OO)=Ф((оо-174)/8)-Ф((182-174)/8)=Ф(оо)-Ф(1)= 0.5-0.3413= 0.1587\n",
        "\n",
        "\n",
        "2. Х>190\n",
        "\n",
        "P(190<x<OO)=Ф((оо-174)/8)-Ф((190-174)/8)=Ф(оо)-Ф(2)= 0.5-0.4772= 0.0228\n",
        "\n",
        "\n",
        "3. 166<Х<190\n",
        "\n",
        "P(166<x<190)=Ф((190-174)/8)-Ф((166-174)/8)=Ф(2)+Ф(1)= 0.4772+0.3413= 0.8185\n",
        "\n",
        "\n",
        "4. 166<Х<182\n",
        "\n",
        "P(166<x<190)=Ф((182-174)/8)-Ф((166-174)/8)=Ф(1)+Ф(1)= 0.3413+0.3413= 0.6826\n",
        "\n",
        "\n",
        "5. 158<Х<190\n",
        "\n",
        "P(158<x<190)=Ф((190-174)/8)-Ф((158-174)/8)=Ф(2)+Ф(2)= 0.4772+0.4772= 0.9544\n",
        "\n",
        "\n",
        "6. -oo<Х<150 & 190<Х<+oo\n",
        "\n",
        "P=Ф((150-174)/8)-Ф((-oo-174)/8) + Ф((+oo-174)/8)-Ф((190-174)/8)=\n",
        "=Ф(2)-Ф(3)= 0.4772-0.49865= 0.02145\n",
        "\n",
        "\n",
        "7. -oo<Х<150 & 198<Х<+oo\n",
        "\n",
        "P=Ф((150-174)/8)-Ф((-oo-174)/8) + Ф((+oo-174)/8)-Ф((198-174)/8)=\n",
        "=2*(Ф(+oo)-Ф(3))= 2*(0.5-0.49865)= 0.0027\n",
        "\n",
        "\n",
        "8. Х<160\n",
        "\n",
        "P(-oo<x<16O)=Ф((166-174)/8)-Ф((-oo-174)/8)=Ф(+oo)-Ф(1)= 0.5-0.3413= 0.1587\n",
        "\n",
        "\n"
      ]
    }
  ]
}